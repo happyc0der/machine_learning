{
 "cells": [
  {
   "cell_type": "code",
   "execution_count": 1,
   "id": "bd7b5cb9",
   "metadata": {},
   "outputs": [],
   "source": [
    "import pandas as pd"
   ]
  },
  {
   "cell_type": "markdown",
   "id": "899aa88a",
   "metadata": {},
   "source": [
    "* Answer 1\n",
    "\n",
    "Need to use the optional argument for read_csv if the data is in bad condition"
   ]
  },
  {
   "cell_type": "code",
   "execution_count": 2,
   "id": "637fd288",
   "metadata": {},
   "outputs": [
    {
     "data": {
      "text/html": [
       "<div>\n",
       "<style scoped>\n",
       "    .dataframe tbody tr th:only-of-type {\n",
       "        vertical-align: middle;\n",
       "    }\n",
       "\n",
       "    .dataframe tbody tr th {\n",
       "        vertical-align: top;\n",
       "    }\n",
       "\n",
       "    .dataframe thead th {\n",
       "        text-align: right;\n",
       "    }\n",
       "</style>\n",
       "<table border=\"1\" class=\"dataframe\">\n",
       "  <thead>\n",
       "    <tr style=\"text-align: right;\">\n",
       "      <th></th>\n",
       "      <th>test_id</th>\n",
       "      <th>question1</th>\n",
       "      <th>question2</th>\n",
       "    </tr>\n",
       "  </thead>\n",
       "  <tbody>\n",
       "    <tr>\n",
       "      <th>0</th>\n",
       "      <td>0</td>\n",
       "      <td>How does the Surface Pro himself 4 compare wit...</td>\n",
       "      <td>Why did Microsoft choose core m3 and not core ...</td>\n",
       "    </tr>\n",
       "    <tr>\n",
       "      <th>1</th>\n",
       "      <td>1</td>\n",
       "      <td>Should I have a hair transplant at age 24? How...</td>\n",
       "      <td>How much cost does hair transplant require?</td>\n",
       "    </tr>\n",
       "    <tr>\n",
       "      <th>2</th>\n",
       "      <td>2</td>\n",
       "      <td>What but is the best way to send money from Ch...</td>\n",
       "      <td>What you send money to China?</td>\n",
       "    </tr>\n",
       "    <tr>\n",
       "      <th>3</th>\n",
       "      <td>3</td>\n",
       "      <td>Which food not emulsifiers?</td>\n",
       "      <td>What foods fibre?</td>\n",
       "    </tr>\n",
       "    <tr>\n",
       "      <th>4</th>\n",
       "      <td>4</td>\n",
       "      <td>How \"aberystwyth\" start reading?</td>\n",
       "      <td>How their can I start reading?</td>\n",
       "    </tr>\n",
       "  </tbody>\n",
       "</table>\n",
       "</div>"
      ],
      "text/plain": [
       "   test_id                                          question1  \\\n",
       "0        0  How does the Surface Pro himself 4 compare wit...   \n",
       "1        1  Should I have a hair transplant at age 24? How...   \n",
       "2        2  What but is the best way to send money from Ch...   \n",
       "3        3                        Which food not emulsifiers?   \n",
       "4        4                   How \"aberystwyth\" start reading?   \n",
       "\n",
       "                                           question2  \n",
       "0  Why did Microsoft choose core m3 and not core ...  \n",
       "1        How much cost does hair transplant require?  \n",
       "2                      What you send money to China?  \n",
       "3                                  What foods fibre?  \n",
       "4                     How their can I start reading?  "
      ]
     },
     "execution_count": 2,
     "metadata": {},
     "output_type": "execute_result"
    }
   ],
   "source": [
    "df1 = pd.read_csv(\"test.csv\",on_bad_lines=\"skip\")\n",
    "df1.head()"
   ]
  },
  {
   "cell_type": "markdown",
   "id": "5e652394",
   "metadata": {},
   "source": [
    "* Answer 2\n",
    "Two methods\n",
    "1. Select a subset of the dataframe\n",
    "2. Make a dummy dataframe and delete using \"del\" command(not recommended as it is slow)"
   ]
  },
  {
   "cell_type": "code",
   "execution_count": 3,
   "id": "daa34edc",
   "metadata": {},
   "outputs": [
    {
     "data": {
      "text/html": [
       "<div>\n",
       "<style scoped>\n",
       "    .dataframe tbody tr th:only-of-type {\n",
       "        vertical-align: middle;\n",
       "    }\n",
       "\n",
       "    .dataframe tbody tr th {\n",
       "        vertical-align: top;\n",
       "    }\n",
       "\n",
       "    .dataframe thead th {\n",
       "        text-align: right;\n",
       "    }\n",
       "</style>\n",
       "<table border=\"1\" class=\"dataframe\">\n",
       "  <thead>\n",
       "    <tr style=\"text-align: right;\">\n",
       "      <th></th>\n",
       "      <th>question1</th>\n",
       "      <th>question2</th>\n",
       "    </tr>\n",
       "  </thead>\n",
       "  <tbody>\n",
       "    <tr>\n",
       "      <th>0</th>\n",
       "      <td>How does the Surface Pro himself 4 compare wit...</td>\n",
       "      <td>Why did Microsoft choose core m3 and not core ...</td>\n",
       "    </tr>\n",
       "    <tr>\n",
       "      <th>1</th>\n",
       "      <td>Should I have a hair transplant at age 24? How...</td>\n",
       "      <td>How much cost does hair transplant require?</td>\n",
       "    </tr>\n",
       "    <tr>\n",
       "      <th>2</th>\n",
       "      <td>What but is the best way to send money from Ch...</td>\n",
       "      <td>What you send money to China?</td>\n",
       "    </tr>\n",
       "    <tr>\n",
       "      <th>3</th>\n",
       "      <td>Which food not emulsifiers?</td>\n",
       "      <td>What foods fibre?</td>\n",
       "    </tr>\n",
       "    <tr>\n",
       "      <th>4</th>\n",
       "      <td>How \"aberystwyth\" start reading?</td>\n",
       "      <td>How their can I start reading?</td>\n",
       "    </tr>\n",
       "  </tbody>\n",
       "</table>\n",
       "</div>"
      ],
      "text/plain": [
       "                                           question1  \\\n",
       "0  How does the Surface Pro himself 4 compare wit...   \n",
       "1  Should I have a hair transplant at age 24? How...   \n",
       "2  What but is the best way to send money from Ch...   \n",
       "3                        Which food not emulsifiers?   \n",
       "4                   How \"aberystwyth\" start reading?   \n",
       "\n",
       "                                           question2  \n",
       "0  Why did Microsoft choose core m3 and not core ...  \n",
       "1        How much cost does hair transplant require?  \n",
       "2                      What you send money to China?  \n",
       "3                                  What foods fibre?  \n",
       "4                     How their can I start reading?  "
      ]
     },
     "execution_count": 3,
     "metadata": {},
     "output_type": "execute_result"
    }
   ],
   "source": [
    "df2 = df1[[\"question1\",\"question2\"]]\n",
    "df2.head()"
   ]
  },
  {
   "cell_type": "markdown",
   "id": "0f323752",
   "metadata": {},
   "source": [
    "* Answer 3\n",
    "\n",
    "Sampling 20 rows of the dataframe randomly, very useful command run it multpile times to see the difference"
   ]
  },
  {
   "cell_type": "code",
   "execution_count": 4,
   "id": "d1950af9",
   "metadata": {},
   "outputs": [
    {
     "data": {
      "text/html": [
       "<div>\n",
       "<style scoped>\n",
       "    .dataframe tbody tr th:only-of-type {\n",
       "        vertical-align: middle;\n",
       "    }\n",
       "\n",
       "    .dataframe tbody tr th {\n",
       "        vertical-align: top;\n",
       "    }\n",
       "\n",
       "    .dataframe thead th {\n",
       "        text-align: right;\n",
       "    }\n",
       "</style>\n",
       "<table border=\"1\" class=\"dataframe\">\n",
       "  <thead>\n",
       "    <tr style=\"text-align: right;\">\n",
       "      <th></th>\n",
       "      <th>question1</th>\n",
       "      <th>question2</th>\n",
       "    </tr>\n",
       "  </thead>\n",
       "  <tbody>\n",
       "    <tr>\n",
       "      <th>1380475</th>\n",
       "      <td>What should I I concentrate in exam studies?</td>\n",
       "      <td>I just think of my boyfriend all the time. How...</td>\n",
       "    </tr>\n",
       "    <tr>\n",
       "      <th>1360322</th>\n",
       "      <td>Is Donald Trump?</td>\n",
       "      <td>What are the main reasons for the higher-than-...</td>\n",
       "    </tr>\n",
       "    <tr>\n",
       "      <th>273669</th>\n",
       "      <td>How can I stop being jealous of a friend?</td>\n",
       "      <td>How do I stop being jealous of someone?</td>\n",
       "    </tr>\n",
       "    <tr>\n",
       "      <th>449497</th>\n",
       "      <td>Is it true that humans only use 10% of their b...</td>\n",
       "      <td>If humans only use 10% of their brain's potent...</td>\n",
       "    </tr>\n",
       "    <tr>\n",
       "      <th>1930239</th>\n",
       "      <td>What are good to join tcs for mechanical engin...</td>\n",
       "      <td>Is it gaana to join TCS?</td>\n",
       "    </tr>\n",
       "    <tr>\n",
       "      <th>2087722</th>\n",
       "      <td>What cell cause the right side of my head to h...</td>\n",
       "      <td>How do we could cause the edge of my eye to hurt?</td>\n",
       "    </tr>\n",
       "    <tr>\n",
       "      <th>2184452</th>\n",
       "      <td>What happens to 12 years old. She always score...</td>\n",
       "      <td>Which is correct, \"How I teach or how can I te...</td>\n",
       "    </tr>\n",
       "    <tr>\n",
       "      <th>2211130</th>\n",
       "      <td>Who designed Taj bio-data?</td>\n",
       "      <td>Who originally built the needn Taj Mahal?</td>\n",
       "    </tr>\n",
       "    <tr>\n",
       "      <th>2072199</th>\n",
       "      <td>Can I link my sleep tracker with a wake-up lig...</td>\n",
       "      <td>I sleep at 10 pm and wake up at 4 am (for stud...</td>\n",
       "    </tr>\n",
       "    <tr>\n",
       "      <th>2250572</th>\n",
       "      <td>Is it mandatory to deduct PF from salary less ...</td>\n",
       "      <td>If PF is not cut from salary then is it proble...</td>\n",
       "    </tr>\n",
       "    <tr>\n",
       "      <th>1333567</th>\n",
       "      <td>Should I get a boyfriend and open do I do that?</td>\n",
       "      <td>How does a get a boyfriend?</td>\n",
       "    </tr>\n",
       "    <tr>\n",
       "      <th>1883399</th>\n",
       "      <td>What is it like for an Indian girl to live in ...</td>\n",
       "      <td>How can woman I convince my in-laws and husban...</td>\n",
       "    </tr>\n",
       "    <tr>\n",
       "      <th>1827381</th>\n",
       "      <td>What time are good ways to control your mind f...</td>\n",
       "      <td>How do and I control oursrlf from sex?</td>\n",
       "    </tr>\n",
       "    <tr>\n",
       "      <th>636910</th>\n",
       "      <td>As a in 10 centimeters?</td>\n",
       "      <td>What is the conversion better 5'8\" into both c...</td>\n",
       "    </tr>\n",
       "    <tr>\n",
       "      <th>1623974</th>\n",
       "      <td>Is it a video game good for you?</td>\n",
       "      <td>What makes a good video game good and a x vide...</td>\n",
       "    </tr>\n",
       "    <tr>\n",
       "      <th>2086074</th>\n",
       "      <td>Would you share your knowledge with people who...</td>\n",
       "      <td>Stupid people why there so many?</td>\n",
       "    </tr>\n",
       "    <tr>\n",
       "      <th>1888165</th>\n",
       "      <td>How can I become a commercial now?</td>\n",
       "      <td>I don't know what to do, become a commercial s...</td>\n",
       "    </tr>\n",
       "    <tr>\n",
       "      <th>551060</th>\n",
       "      <td>What are the possible ways to stop smoking?</td>\n",
       "      <td>How can I leave smoking?</td>\n",
       "    </tr>\n",
       "    <tr>\n",
       "      <th>1168964</th>\n",
       "      <td>Is Balaji lamb fearless?</td>\n",
       "      <td>If we have custom validations and services sep...</td>\n",
       "    </tr>\n",
       "    <tr>\n",
       "      <th>1652422</th>\n",
       "      <td>Maximum instrumentation and control engineering?</td>\n",
       "      <td>What is connection difference between electron...</td>\n",
       "    </tr>\n",
       "  </tbody>\n",
       "</table>\n",
       "</div>"
      ],
      "text/plain": [
       "                                                 question1  \\\n",
       "1380475       What should I I concentrate in exam studies?   \n",
       "1360322                                   Is Donald Trump?   \n",
       "273669           How can I stop being jealous of a friend?   \n",
       "449497   Is it true that humans only use 10% of their b...   \n",
       "1930239  What are good to join tcs for mechanical engin...   \n",
       "2087722  What cell cause the right side of my head to h...   \n",
       "2184452  What happens to 12 years old. She always score...   \n",
       "2211130                         Who designed Taj bio-data?   \n",
       "2072199  Can I link my sleep tracker with a wake-up lig...   \n",
       "2250572  Is it mandatory to deduct PF from salary less ...   \n",
       "1333567    Should I get a boyfriend and open do I do that?   \n",
       "1883399  What is it like for an Indian girl to live in ...   \n",
       "1827381  What time are good ways to control your mind f...   \n",
       "636910                             As a in 10 centimeters?   \n",
       "1623974                   Is it a video game good for you?   \n",
       "2086074  Would you share your knowledge with people who...   \n",
       "1888165                 How can I become a commercial now?   \n",
       "551060         What are the possible ways to stop smoking?   \n",
       "1168964                           Is Balaji lamb fearless?   \n",
       "1652422   Maximum instrumentation and control engineering?   \n",
       "\n",
       "                                                 question2  \n",
       "1380475  I just think of my boyfriend all the time. How...  \n",
       "1360322  What are the main reasons for the higher-than-...  \n",
       "273669             How do I stop being jealous of someone?  \n",
       "449497   If humans only use 10% of their brain's potent...  \n",
       "1930239                           Is it gaana to join TCS?  \n",
       "2087722  How do we could cause the edge of my eye to hurt?  \n",
       "2184452  Which is correct, \"How I teach or how can I te...  \n",
       "2211130          Who originally built the needn Taj Mahal?  \n",
       "2072199  I sleep at 10 pm and wake up at 4 am (for stud...  \n",
       "2250572  If PF is not cut from salary then is it proble...  \n",
       "1333567                        How does a get a boyfriend?  \n",
       "1883399  How can woman I convince my in-laws and husban...  \n",
       "1827381             How do and I control oursrlf from sex?  \n",
       "636910   What is the conversion better 5'8\" into both c...  \n",
       "1623974  What makes a good video game good and a x vide...  \n",
       "2086074                   Stupid people why there so many?  \n",
       "1888165  I don't know what to do, become a commercial s...  \n",
       "551060                            How can I leave smoking?  \n",
       "1168964  If we have custom validations and services sep...  \n",
       "1652422  What is connection difference between electron...  "
      ]
     },
     "execution_count": 4,
     "metadata": {},
     "output_type": "execute_result"
    }
   ],
   "source": [
    "df2.sample(20)"
   ]
  },
  {
   "cell_type": "markdown",
   "id": "2d4f6fb9",
   "metadata": {},
   "source": [
    "* Answer 4\n",
    "\n",
    "For our dataset we observe that the number of question 1 and question 2 pairs will be the number of values where question 1 and question 2 both are not NULL. Simply use the count() function( it returns the number of entries that are not null column wise)"
   ]
  },
  {
   "cell_type": "code",
   "execution_count": 5,
   "id": "2abed3c5",
   "metadata": {},
   "outputs": [
    {
     "name": "stdout",
     "output_type": "stream",
     "text": [
      "2345790\n"
     ]
    }
   ],
   "source": [
    "print(len(df2.copy().dropna()))"
   ]
  },
  {
   "cell_type": "markdown",
   "id": "8f472318",
   "metadata": {},
   "source": [
    "* Answer 5\n",
    "\n",
    "Getting the summary statistics using .describe() function"
   ]
  },
  {
   "cell_type": "code",
   "execution_count": null,
   "id": "65d74cc9",
   "metadata": {},
   "outputs": [],
   "source": [
    "df2.describe()"
   ]
  },
  {
   "cell_type": "markdown",
   "id": "aea8543f",
   "metadata": {},
   "source": [
    "* Answer 6\n",
    "Find the number of null rows and removing them"
   ]
  },
  {
   "cell_type": "code",
   "execution_count": 7,
   "id": "9403fdc6",
   "metadata": {},
   "outputs": [
    {
     "name": "stdout",
     "output_type": "stream",
     "text": [
      "question1    2\n",
      "question2    4\n",
      "dtype: int64\n"
     ]
    }
   ],
   "source": [
    "print(df2.copy().isnull().sum())"
   ]
  },
  {
   "cell_type": "code",
   "execution_count": 8,
   "id": "958cf804",
   "metadata": {},
   "outputs": [
    {
     "data": {
      "text/html": [
       "<div>\n",
       "<style scoped>\n",
       "    .dataframe tbody tr th:only-of-type {\n",
       "        vertical-align: middle;\n",
       "    }\n",
       "\n",
       "    .dataframe tbody tr th {\n",
       "        vertical-align: top;\n",
       "    }\n",
       "\n",
       "    .dataframe thead th {\n",
       "        text-align: right;\n",
       "    }\n",
       "</style>\n",
       "<table border=\"1\" class=\"dataframe\">\n",
       "  <thead>\n",
       "    <tr style=\"text-align: right;\">\n",
       "      <th></th>\n",
       "      <th>question1</th>\n",
       "      <th>question2</th>\n",
       "    </tr>\n",
       "  </thead>\n",
       "  <tbody>\n",
       "    <tr>\n",
       "      <th>0</th>\n",
       "      <td>How does the Surface Pro himself 4 compare wit...</td>\n",
       "      <td>Why did Microsoft choose core m3 and not core ...</td>\n",
       "    </tr>\n",
       "    <tr>\n",
       "      <th>1</th>\n",
       "      <td>Should I have a hair transplant at age 24? How...</td>\n",
       "      <td>How much cost does hair transplant require?</td>\n",
       "    </tr>\n",
       "    <tr>\n",
       "      <th>2</th>\n",
       "      <td>What but is the best way to send money from Ch...</td>\n",
       "      <td>What you send money to China?</td>\n",
       "    </tr>\n",
       "    <tr>\n",
       "      <th>3</th>\n",
       "      <td>Which food not emulsifiers?</td>\n",
       "      <td>What foods fibre?</td>\n",
       "    </tr>\n",
       "    <tr>\n",
       "      <th>4</th>\n",
       "      <td>How \"aberystwyth\" start reading?</td>\n",
       "      <td>How their can I start reading?</td>\n",
       "    </tr>\n",
       "    <tr>\n",
       "      <th>...</th>\n",
       "      <td>...</td>\n",
       "      <td>...</td>\n",
       "    </tr>\n",
       "    <tr>\n",
       "      <th>2345791</th>\n",
       "      <td>How do Peaks (TV series): Why did Leland kill ...</td>\n",
       "      <td>What is the most study scene in twin peaks?</td>\n",
       "    </tr>\n",
       "    <tr>\n",
       "      <th>2345792</th>\n",
       "      <td>What does be \"in transit\" mean on FedEx tracking?</td>\n",
       "      <td>How question FedEx packages delivered?</td>\n",
       "    </tr>\n",
       "    <tr>\n",
       "      <th>2345793</th>\n",
       "      <td>What are some famous Romanian drinks (alcoholi...</td>\n",
       "      <td>Can a non-alcoholic restaurant be a huge success?</td>\n",
       "    </tr>\n",
       "    <tr>\n",
       "      <th>2345794</th>\n",
       "      <td>What were the best and worst things about publ...</td>\n",
       "      <td>What are the best and worst things examination...</td>\n",
       "    </tr>\n",
       "    <tr>\n",
       "      <th>2345795</th>\n",
       "      <td>What is the best medication equation erectile ...</td>\n",
       "      <td>How do I out get rid of Erectile Dysfunction?</td>\n",
       "    </tr>\n",
       "  </tbody>\n",
       "</table>\n",
       "<p>2345790 rows × 2 columns</p>\n",
       "</div>"
      ],
      "text/plain": [
       "                                                 question1  \\\n",
       "0        How does the Surface Pro himself 4 compare wit...   \n",
       "1        Should I have a hair transplant at age 24? How...   \n",
       "2        What but is the best way to send money from Ch...   \n",
       "3                              Which food not emulsifiers?   \n",
       "4                         How \"aberystwyth\" start reading?   \n",
       "...                                                    ...   \n",
       "2345791  How do Peaks (TV series): Why did Leland kill ...   \n",
       "2345792  What does be \"in transit\" mean on FedEx tracking?   \n",
       "2345793  What are some famous Romanian drinks (alcoholi...   \n",
       "2345794  What were the best and worst things about publ...   \n",
       "2345795  What is the best medication equation erectile ...   \n",
       "\n",
       "                                                 question2  \n",
       "0        Why did Microsoft choose core m3 and not core ...  \n",
       "1              How much cost does hair transplant require?  \n",
       "2                            What you send money to China?  \n",
       "3                                        What foods fibre?  \n",
       "4                           How their can I start reading?  \n",
       "...                                                    ...  \n",
       "2345791        What is the most study scene in twin peaks?  \n",
       "2345792             How question FedEx packages delivered?  \n",
       "2345793  Can a non-alcoholic restaurant be a huge success?  \n",
       "2345794  What are the best and worst things examination...  \n",
       "2345795      How do I out get rid of Erectile Dysfunction?  \n",
       "\n",
       "[2345790 rows x 2 columns]"
      ]
     },
     "execution_count": 8,
     "metadata": {},
     "output_type": "execute_result"
    }
   ],
   "source": [
    "df6 = df2.copy().dropna()\n",
    "df6"
   ]
  },
  {
   "cell_type": "markdown",
   "id": "5e49d992",
   "metadata": {},
   "source": [
    "* Answer 7\n",
    "\n",
    "Finding the number of duplicate and non-duplicate values. I am assuming that we are checking pairwise if the values are equal or not. I will be using the NULL values removed dataset for this task."
   ]
  },
  {
   "cell_type": "code",
   "execution_count": 9,
   "id": "65bbbfbb",
   "metadata": {},
   "outputs": [
    {
     "name": "stdout",
     "output_type": "stream",
     "text": [
      "2345790 0\n"
     ]
    }
   ],
   "source": [
    "df7 = df6.assign(is_duplicate=0)\n",
    "print(len(df7),len(df6)-len(df7))\n",
    "# Dupes and Non-Dupes"
   ]
  },
  {
   "cell_type": "code",
   "execution_count": 10,
   "id": "755df362",
   "metadata": {},
   "outputs": [
    {
     "data": {
      "text/html": [
       "<div>\n",
       "<style scoped>\n",
       "    .dataframe tbody tr th:only-of-type {\n",
       "        vertical-align: middle;\n",
       "    }\n",
       "\n",
       "    .dataframe tbody tr th {\n",
       "        vertical-align: top;\n",
       "    }\n",
       "\n",
       "    .dataframe thead th {\n",
       "        text-align: right;\n",
       "    }\n",
       "</style>\n",
       "<table border=\"1\" class=\"dataframe\">\n",
       "  <thead>\n",
       "    <tr style=\"text-align: right;\">\n",
       "      <th></th>\n",
       "      <th>question1</th>\n",
       "      <th>question2</th>\n",
       "      <th>is_duplicate</th>\n",
       "    </tr>\n",
       "  </thead>\n",
       "  <tbody>\n",
       "    <tr>\n",
       "      <th>0</th>\n",
       "      <td>How does the Surface Pro himself 4 compare wit...</td>\n",
       "      <td>Why did Microsoft choose core m3 and not core ...</td>\n",
       "      <td>0</td>\n",
       "    </tr>\n",
       "    <tr>\n",
       "      <th>1</th>\n",
       "      <td>Should I have a hair transplant at age 24? How...</td>\n",
       "      <td>How much cost does hair transplant require?</td>\n",
       "      <td>0</td>\n",
       "    </tr>\n",
       "    <tr>\n",
       "      <th>2</th>\n",
       "      <td>What but is the best way to send money from Ch...</td>\n",
       "      <td>What you send money to China?</td>\n",
       "      <td>0</td>\n",
       "    </tr>\n",
       "    <tr>\n",
       "      <th>3</th>\n",
       "      <td>Which food not emulsifiers?</td>\n",
       "      <td>What foods fibre?</td>\n",
       "      <td>0</td>\n",
       "    </tr>\n",
       "    <tr>\n",
       "      <th>4</th>\n",
       "      <td>How \"aberystwyth\" start reading?</td>\n",
       "      <td>How their can I start reading?</td>\n",
       "      <td>0</td>\n",
       "    </tr>\n",
       "  </tbody>\n",
       "</table>\n",
       "</div>"
      ],
      "text/plain": [
       "                                           question1  \\\n",
       "0  How does the Surface Pro himself 4 compare wit...   \n",
       "1  Should I have a hair transplant at age 24? How...   \n",
       "2  What but is the best way to send money from Ch...   \n",
       "3                        Which food not emulsifiers?   \n",
       "4                   How \"aberystwyth\" start reading?   \n",
       "\n",
       "                                           question2  is_duplicate  \n",
       "0  Why did Microsoft choose core m3 and not core ...             0  \n",
       "1        How much cost does hair transplant require?             0  \n",
       "2                      What you send money to China?             0  \n",
       "3                                  What foods fibre?             0  \n",
       "4                     How their can I start reading?             0  "
      ]
     },
     "execution_count": 10,
     "metadata": {},
     "output_type": "execute_result"
    }
   ],
   "source": [
    "df7.head()"
   ]
  },
  {
   "cell_type": "code",
   "execution_count": 11,
   "id": "5878936d",
   "metadata": {},
   "outputs": [],
   "source": [
    "df7.loc[df7['question1']==df7['question2'],'is_duplicate'] = 1\n",
    "# loc is a very powerful function and keep it in mind whenever doing anything\n",
    "        "
   ]
  },
  {
   "cell_type": "code",
   "execution_count": 12,
   "id": "93222891",
   "metadata": {},
   "outputs": [
    {
     "data": {
      "text/html": [
       "<div>\n",
       "<style scoped>\n",
       "    .dataframe tbody tr th:only-of-type {\n",
       "        vertical-align: middle;\n",
       "    }\n",
       "\n",
       "    .dataframe tbody tr th {\n",
       "        vertical-align: top;\n",
       "    }\n",
       "\n",
       "    .dataframe thead th {\n",
       "        text-align: right;\n",
       "    }\n",
       "</style>\n",
       "<table border=\"1\" class=\"dataframe\">\n",
       "  <thead>\n",
       "    <tr style=\"text-align: right;\">\n",
       "      <th></th>\n",
       "      <th>question1</th>\n",
       "      <th>question2</th>\n",
       "      <th>is_duplicate</th>\n",
       "    </tr>\n",
       "  </thead>\n",
       "  <tbody>\n",
       "    <tr>\n",
       "      <th>0</th>\n",
       "      <td>How does the Surface Pro himself 4 compare wit...</td>\n",
       "      <td>Why did Microsoft choose core m3 and not core ...</td>\n",
       "      <td>0</td>\n",
       "    </tr>\n",
       "    <tr>\n",
       "      <th>1</th>\n",
       "      <td>Should I have a hair transplant at age 24? How...</td>\n",
       "      <td>How much cost does hair transplant require?</td>\n",
       "      <td>0</td>\n",
       "    </tr>\n",
       "    <tr>\n",
       "      <th>2</th>\n",
       "      <td>What but is the best way to send money from Ch...</td>\n",
       "      <td>What you send money to China?</td>\n",
       "      <td>0</td>\n",
       "    </tr>\n",
       "    <tr>\n",
       "      <th>3</th>\n",
       "      <td>Which food not emulsifiers?</td>\n",
       "      <td>What foods fibre?</td>\n",
       "      <td>0</td>\n",
       "    </tr>\n",
       "    <tr>\n",
       "      <th>4</th>\n",
       "      <td>How \"aberystwyth\" start reading?</td>\n",
       "      <td>How their can I start reading?</td>\n",
       "      <td>0</td>\n",
       "    </tr>\n",
       "    <tr>\n",
       "      <th>...</th>\n",
       "      <td>...</td>\n",
       "      <td>...</td>\n",
       "      <td>...</td>\n",
       "    </tr>\n",
       "    <tr>\n",
       "      <th>2345791</th>\n",
       "      <td>How do Peaks (TV series): Why did Leland kill ...</td>\n",
       "      <td>What is the most study scene in twin peaks?</td>\n",
       "      <td>0</td>\n",
       "    </tr>\n",
       "    <tr>\n",
       "      <th>2345792</th>\n",
       "      <td>What does be \"in transit\" mean on FedEx tracking?</td>\n",
       "      <td>How question FedEx packages delivered?</td>\n",
       "      <td>0</td>\n",
       "    </tr>\n",
       "    <tr>\n",
       "      <th>2345793</th>\n",
       "      <td>What are some famous Romanian drinks (alcoholi...</td>\n",
       "      <td>Can a non-alcoholic restaurant be a huge success?</td>\n",
       "      <td>0</td>\n",
       "    </tr>\n",
       "    <tr>\n",
       "      <th>2345794</th>\n",
       "      <td>What were the best and worst things about publ...</td>\n",
       "      <td>What are the best and worst things examination...</td>\n",
       "      <td>0</td>\n",
       "    </tr>\n",
       "    <tr>\n",
       "      <th>2345795</th>\n",
       "      <td>What is the best medication equation erectile ...</td>\n",
       "      <td>How do I out get rid of Erectile Dysfunction?</td>\n",
       "      <td>0</td>\n",
       "    </tr>\n",
       "  </tbody>\n",
       "</table>\n",
       "<p>2345790 rows × 3 columns</p>\n",
       "</div>"
      ],
      "text/plain": [
       "                                                 question1  \\\n",
       "0        How does the Surface Pro himself 4 compare wit...   \n",
       "1        Should I have a hair transplant at age 24? How...   \n",
       "2        What but is the best way to send money from Ch...   \n",
       "3                              Which food not emulsifiers?   \n",
       "4                         How \"aberystwyth\" start reading?   \n",
       "...                                                    ...   \n",
       "2345791  How do Peaks (TV series): Why did Leland kill ...   \n",
       "2345792  What does be \"in transit\" mean on FedEx tracking?   \n",
       "2345793  What are some famous Romanian drinks (alcoholi...   \n",
       "2345794  What were the best and worst things about publ...   \n",
       "2345795  What is the best medication equation erectile ...   \n",
       "\n",
       "                                                 question2  is_duplicate  \n",
       "0        Why did Microsoft choose core m3 and not core ...             0  \n",
       "1              How much cost does hair transplant require?             0  \n",
       "2                            What you send money to China?             0  \n",
       "3                                        What foods fibre?             0  \n",
       "4                           How their can I start reading?             0  \n",
       "...                                                    ...           ...  \n",
       "2345791        What is the most study scene in twin peaks?             0  \n",
       "2345792             How question FedEx packages delivered?             0  \n",
       "2345793  Can a non-alcoholic restaurant be a huge success?             0  \n",
       "2345794  What are the best and worst things examination...             0  \n",
       "2345795      How do I out get rid of Erectile Dysfunction?             0  \n",
       "\n",
       "[2345790 rows x 3 columns]"
      ]
     },
     "execution_count": 12,
     "metadata": {},
     "output_type": "execute_result"
    }
   ],
   "source": [
    "df7"
   ]
  },
  {
   "cell_type": "code",
   "execution_count": 13,
   "id": "79cd3c34",
   "metadata": {},
   "outputs": [
    {
     "data": {
      "text/plain": [
       "60"
      ]
     },
     "execution_count": 13,
     "metadata": {},
     "output_type": "execute_result"
    }
   ],
   "source": [
    "df7.is_duplicate.sum()\n",
    "# verifying that it is indeed correct"
   ]
  },
  {
   "cell_type": "code",
   "execution_count": 21,
   "id": "8799b5e2",
   "metadata": {
    "scrolled": true
   },
   "outputs": [],
   "source": [
    "# Inserting a column for identification\n",
    "df7.insert(0,'q_id',range(0,len(df7)))"
   ]
  },
  {
   "cell_type": "code",
   "execution_count": 22,
   "id": "7a7d92d2",
   "metadata": {},
   "outputs": [
    {
     "data": {
      "text/html": [
       "<div>\n",
       "<style scoped>\n",
       "    .dataframe tbody tr th:only-of-type {\n",
       "        vertical-align: middle;\n",
       "    }\n",
       "\n",
       "    .dataframe tbody tr th {\n",
       "        vertical-align: top;\n",
       "    }\n",
       "\n",
       "    .dataframe thead th {\n",
       "        text-align: right;\n",
       "    }\n",
       "</style>\n",
       "<table border=\"1\" class=\"dataframe\">\n",
       "  <thead>\n",
       "    <tr style=\"text-align: right;\">\n",
       "      <th></th>\n",
       "      <th>q_id</th>\n",
       "      <th>question1</th>\n",
       "      <th>question2</th>\n",
       "      <th>is_duplicate</th>\n",
       "    </tr>\n",
       "  </thead>\n",
       "  <tbody>\n",
       "    <tr>\n",
       "      <th>0</th>\n",
       "      <td>0</td>\n",
       "      <td>How does the Surface Pro himself 4 compare wit...</td>\n",
       "      <td>Why did Microsoft choose core m3 and not core ...</td>\n",
       "      <td>0</td>\n",
       "    </tr>\n",
       "    <tr>\n",
       "      <th>1</th>\n",
       "      <td>1</td>\n",
       "      <td>Should I have a hair transplant at age 24? How...</td>\n",
       "      <td>How much cost does hair transplant require?</td>\n",
       "      <td>0</td>\n",
       "    </tr>\n",
       "    <tr>\n",
       "      <th>2</th>\n",
       "      <td>2</td>\n",
       "      <td>What but is the best way to send money from Ch...</td>\n",
       "      <td>What you send money to China?</td>\n",
       "      <td>0</td>\n",
       "    </tr>\n",
       "    <tr>\n",
       "      <th>3</th>\n",
       "      <td>3</td>\n",
       "      <td>Which food not emulsifiers?</td>\n",
       "      <td>What foods fibre?</td>\n",
       "      <td>0</td>\n",
       "    </tr>\n",
       "    <tr>\n",
       "      <th>4</th>\n",
       "      <td>4</td>\n",
       "      <td>How \"aberystwyth\" start reading?</td>\n",
       "      <td>How their can I start reading?</td>\n",
       "      <td>0</td>\n",
       "    </tr>\n",
       "  </tbody>\n",
       "</table>\n",
       "</div>"
      ],
      "text/plain": [
       "   q_id                                          question1  \\\n",
       "0     0  How does the Surface Pro himself 4 compare wit...   \n",
       "1     1  Should I have a hair transplant at age 24? How...   \n",
       "2     2  What but is the best way to send money from Ch...   \n",
       "3     3                        Which food not emulsifiers?   \n",
       "4     4                   How \"aberystwyth\" start reading?   \n",
       "\n",
       "                                           question2  is_duplicate  \n",
       "0  Why did Microsoft choose core m3 and not core ...             0  \n",
       "1        How much cost does hair transplant require?             0  \n",
       "2                      What you send money to China?             0  \n",
       "3                                  What foods fibre?             0  \n",
       "4                     How their can I start reading?             0  "
      ]
     },
     "execution_count": 22,
     "metadata": {},
     "output_type": "execute_result"
    }
   ],
   "source": [
    "df7.head()"
   ]
  },
  {
   "cell_type": "code",
   "execution_count": null,
   "id": "fb626307",
   "metadata": {},
   "outputs": [],
   "source": [
    "df7.plot(x='q_id',y='is_duplicate',kind='bar')"
   ]
  },
  {
   "cell_type": "markdown",
   "id": "13595855",
   "metadata": {},
   "source": [
    "* Answer 9\n",
    "\n",
    "We will need to use the original dataframe from ans 1 and plot what is required\n",
    "Note that for each question_id we have two questions"
   ]
  },
  {
   "cell_type": "code",
   "execution_count": null,
   "id": "f801d6fb",
   "metadata": {},
   "outputs": [],
   "source": [
    "df1.head()"
   ]
  },
  {
   "cell_type": "code",
   "execution_count": null,
   "id": "9207e08b",
   "metadata": {},
   "outputs": [],
   "source": [
    "import numpy as np"
   ]
  },
  {
   "cell_type": "code",
   "execution_count": null,
   "id": "f2d36896",
   "metadata": {},
   "outputs": [],
   "source": [
    "df1.insert(0,'q_id',range(1,len(df7)+1))"
   ]
  },
  {
   "cell_type": "code",
   "execution_count": null,
   "id": "5b6ce36a",
   "metadata": {},
   "outputs": [],
   "source": [
    "df1.insert(0,'number_of_questions',range(2,2*len(df7)+1))"
   ]
  },
  {
   "cell_type": "code",
   "execution_count": null,
   "id": "82e3c0b9",
   "metadata": {},
   "outputs": [],
   "source": [
    "df1['log_base2'] = np.log2(df1['number_of_questions'])"
   ]
  },
  {
   "cell_type": "code",
   "execution_count": null,
   "id": "28f7d034",
   "metadata": {},
   "outputs": [],
   "source": [
    "df7.plot(x='log_base2',y='q_id')"
   ]
  },
  {
   "cell_type": "code",
   "execution_count": null,
   "id": "314f6518",
   "metadata": {},
   "outputs": [],
   "source": []
  }
 ],
 "metadata": {
  "kernelspec": {
   "display_name": "Python 3 (ipykernel)",
   "language": "python",
   "name": "python3"
  },
  "language_info": {
   "codemirror_mode": {
    "name": "ipython",
    "version": 3
   },
   "file_extension": ".py",
   "mimetype": "text/x-python",
   "name": "python",
   "nbconvert_exporter": "python",
   "pygments_lexer": "ipython3",
   "version": "3.9.12"
  }
 },
 "nbformat": 4,
 "nbformat_minor": 5
}
