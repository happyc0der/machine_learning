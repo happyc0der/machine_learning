import pandas as pd

* Answer 1

Need to use the optional argument for read_csv if the data is in bad condition

df1 = pd.read_csv("test.csv",on_bad_lines="skip")
df1.head()

* Answer 2
Two methods
1. Select a subset of the dataframe
2. Make a dummy dataframe and delete using "del" command(not recommended as it is slow)

df2 = df1[["question1","question2"]]
df2.head()

* Answer 3

Sampling 20 rows of the dataframe randomly, very useful command run it multpile times to see the difference

df2.sample(20)

* Answer 4

For our dataset we observe that the number of question 1 and question 2 pairs will be the number of values where question 1 and question 2 both are not NULL. Simply use the count() function( it returns the number of entries that are not null column wise)

print(len(df2.copy().dropna()))

* Answer 5

Getting the summary statistics using .describe() function

df2.describe()

* Answer 6
Find the number of null rows and removing them

print(df2.copy().isnull().sum())

df6 = df2.copy().dropna()
df6

* Answer 7

Finding the number of duplicate and non-duplicate values. I am assuming that we are checking pairwise if the values are equal or not. I will be using the NULL values removed dataset for this task.

df7 = df6.assign(is_duplicate=0)
print(len(df7),len(df6)-len(df7))
# Dupes and Non-Dupes

df7.head()

df7.loc[df7['question1']==df7['question2'],'is_duplicate'] = 1
# loc is a very powerful function and keep it in mind whenever doing anything
        

df7

df7.is_duplicate.sum()
# verifying that it is indeed correct

# Inserting a column for identification
df7.insert(0,'q_id',range(0,len(df7)))

df7.head()

df7.plot(x='q_id',y='is_duplicate',kind='bar')

* Answer 9

We will need to use the original dataframe from ans 1 and plot what is required
Note that for each question_id we have two questions

df1.head()

import numpy as np

df1.insert(0,'q_id',range(1,len(df7)+1))

df1.insert(0,'number_of_questions',range(2,2*len(df7)+1))

df1['log_base2'] = np.log2(df1['number_of_questions'])

df7.plot(x='log_base2',y='q_id')

